{
 "cells": [
  {
   "cell_type": "code",
   "execution_count": 11,
   "id": "b0db0425",
   "metadata": {},
   "outputs": [
    {
     "name": "stdout",
     "output_type": "stream",
     "text": [
      "Toplam 9072 satır yüklendi.\n",
      "          file          x          y    z    dx    dy    dz  yaw category_name\n",
      "0  0000063.txt  -1.940781 -13.757110  0.0  0.23  0.23  0.33  0.0   Cone_Yellow\n",
      "1  0000063.txt  -0.044644 -15.379118  0.0  0.23  0.23  0.33  0.0   Cone_Yellow\n",
      "2  0000063.txt  -4.600689  26.700629  0.0  0.23  0.23  0.33  0.0   Cone_Yellow\n",
      "3  0000063.txt   7.560964  -0.634367  0.0  0.23  0.23  0.33  0.0   Cone_Yellow\n",
      "4  0000063.txt  11.196652 -19.591589  0.0  0.23  0.23  0.33  0.0   Cone_Yellow\n"
     ]
    }
   ],
   "source": [
    "import pandas as pd\n",
    "import os\n",
    "\n",
    "# Klasör yolu\n",
    "folder_path = \"cfs_vargarda8/labels/\"\n",
    "\n",
    "# Boş liste (tüm verileri toplayacağız)\n",
    "data = []\n",
    "\n",
    "# Klasördeki her dosyayı dön\n",
    "for file_name in os.listdir(folder_path):\n",
    "    if file_name.endswith(\".txt\"):\n",
    "        file_path = os.path.join(folder_path, file_name)\n",
    "        \n",
    "        # Dosyayı satır satır oku\n",
    "        with open(file_path, \"r\") as f:\n",
    "            for line in f:\n",
    "                parts = line.strip().split()\n",
    "                if len(parts) == 8:  # Beklenen formatta satır\n",
    "                    x, y, z, dx, dy, dz, yaw, category_name = parts\n",
    "                    data.append({\n",
    "                        \"file\": file_name,\n",
    "                        \"x\": float(x),\n",
    "                        \"y\": float(y),\n",
    "                        \"z\": float(z),\n",
    "                        \"dx\": float(dx),\n",
    "                        \"dy\": float(dy),\n",
    "                        \"dz\": float(dz),\n",
    "                        \"yaw\": float(yaw),\n",
    "                        \"category_name\": category_name\n",
    "                    })\n",
    "\n",
    "# DataFrame oluştur\n",
    "df = pd.DataFrame(data)\n",
    "\n",
    "print(f\"Toplam {len(df)} satır yüklendi.\")\n",
    "print(df.head())\n"
   ]
  },
  {
   "cell_type": "code",
   "execution_count": 12,
   "id": "d07c12cf",
   "metadata": {},
   "outputs": [
    {
     "name": "stdout",
     "output_type": "stream",
     "text": [
      "🔹 TÜM VERİLERİN İSTATİSTİKSEL ÖZETİ:\n",
      "                 x            y       z            dx            dy  \\\n",
      "count  9072.000000  9072.000000  9072.0  9.072000e+03  9.072000e+03   \n",
      "mean     -0.854441   -12.901484     0.0  2.300000e-01  2.300000e-01   \n",
      "std      20.257361    20.448572     0.0  1.537744e-14  1.537744e-14   \n",
      "min     -52.921335   -67.760560     0.0  2.300000e-01  2.300000e-01   \n",
      "25%     -15.196836   -26.658090     0.0  2.300000e-01  2.300000e-01   \n",
      "50%      -1.733556   -12.830347     0.0  2.300000e-01  2.300000e-01   \n",
      "75%      12.095011    -0.359030     0.0  2.300000e-01  2.300000e-01   \n",
      "max      61.561243    43.770532     0.0  2.300000e-01  2.300000e-01   \n",
      "\n",
      "                 dz     yaw  \n",
      "count  9.072000e+03  9072.0  \n",
      "mean   3.300000e-01     0.0  \n",
      "std    4.174669e-14     0.0  \n",
      "min    3.300000e-01     0.0  \n",
      "25%    3.300000e-01     0.0  \n",
      "50%    3.300000e-01     0.0  \n",
      "75%    3.300000e-01     0.0  \n",
      "max    3.300000e-01     0.0  \n"
     ]
    }
   ],
   "source": [
    "# Sayısal kolonlar\n",
    "cols = [\"x\", \"y\", \"z\", \"dx\", \"dy\", \"dz\", \"yaw\"]\n",
    "\n",
    "# Tüm istatistikleri yazdır\n",
    "print(\"🔹 TÜM VERİLERİN İSTATİSTİKSEL ÖZETİ:\")\n",
    "print(df[cols].describe())\n"
   ]
  },
  {
   "cell_type": "code",
   "execution_count": 13,
   "id": "26dfd450",
   "metadata": {},
   "outputs": [
    {
     "name": "stdout",
     "output_type": "stream",
     "text": [
      "\n",
      "🔹 KATEGORİYE GÖRE İSTATİSTİKSEL ÖZETLER:\n",
      "\n",
      "Kategori: Cone_Blue\n",
      "                 x            y       z            dx            dy  \\\n",
      "count  4662.000000  4662.000000  4662.0  4.662000e+03  4.662000e+03   \n",
      "mean     -0.874915   -12.885031     0.0  2.300000e-01  2.300000e-01   \n",
      "std      20.858715    20.969168     0.0  1.276893e-14  1.276893e-14   \n",
      "min     -52.921335   -67.760560     0.0  2.300000e-01  2.300000e-01   \n",
      "25%     -16.105438   -26.739583     0.0  2.300000e-01  2.300000e-01   \n",
      "50%      -1.485527   -13.827271     0.0  2.300000e-01  2.300000e-01   \n",
      "75%      12.678387     1.137759     0.0  2.300000e-01  2.300000e-01   \n",
      "max      61.561243    43.770532     0.0  2.300000e-01  2.300000e-01   \n",
      "\n",
      "                 dz     yaw  \n",
      "count  4.662000e+03  4662.0  \n",
      "mean   3.300000e-01     0.0  \n",
      "std    1.243583e-14     0.0  \n",
      "min    3.300000e-01     0.0  \n",
      "25%    3.300000e-01     0.0  \n",
      "50%    3.300000e-01     0.0  \n",
      "75%    3.300000e-01     0.0  \n",
      "max    3.300000e-01     0.0  \n",
      "------------------------------------------------------------\n",
      "Kategori: Cone_Yellow\n",
      "                 x            y       z            dx            dy  \\\n",
      "count  4410.000000  4410.000000  4410.0  4.410000e+03  4.410000e+03   \n",
      "mean     -0.832796   -12.918878     0.0  2.300000e-01  2.300000e-01   \n",
      "std      19.603936    19.885774     0.0  1.246367e-14  1.246367e-14   \n",
      "min     -49.486893   -64.391673     0.0  2.300000e-01  2.300000e-01   \n",
      "25%     -14.533367   -26.524594     0.0  2.300000e-01  2.300000e-01   \n",
      "50%      -1.948125   -12.246289     0.0  2.300000e-01  2.300000e-01   \n",
      "75%      11.620668    -1.793076     0.0  2.300000e-01  2.300000e-01   \n",
      "max      58.112962    40.501934     0.0  2.300000e-01  2.300000e-01   \n",
      "\n",
      "                 dz     yaw  \n",
      "count  4.410000e+03  4410.0  \n",
      "mean   3.300000e-01     0.0  \n",
      "std    8.993826e-15     0.0  \n",
      "min    3.300000e-01     0.0  \n",
      "25%    3.300000e-01     0.0  \n",
      "50%    3.300000e-01     0.0  \n",
      "75%    3.300000e-01     0.0  \n",
      "max    3.300000e-01     0.0  \n",
      "------------------------------------------------------------\n"
     ]
    }
   ],
   "source": [
    "print(\"\\n🔹 KATEGORİYE GÖRE İSTATİSTİKSEL ÖZETLER:\\n\")\n",
    "\n",
    "for cat, group in df.groupby(\"category_name\"):\n",
    "    print(f\"Kategori: {cat}\")\n",
    "    print(group[cols].describe())\n",
    "    print(\"-\" * 60)\n"
   ]
  },
  {
   "cell_type": "code",
   "execution_count": 14,
   "id": "5c6f8c54",
   "metadata": {},
   "outputs": [
    {
     "data": {
      "text/plain": [
       "9072"
      ]
     },
     "execution_count": 14,
     "metadata": {},
     "output_type": "execute_result"
    }
   ],
   "source": [
    "len(df)"
   ]
  },
  {
   "cell_type": "code",
   "execution_count": 15,
   "id": "5e0fd4f0",
   "metadata": {},
   "outputs": [
    {
     "name": "stdout",
     "output_type": "stream",
     "text": [
      "Toplam koni sayısı: 144\n",
      "Sarı koniler (Cone_Yellow): 70\n",
      "Mavi koniler (Cone_Blue): 74\n"
     ]
    }
   ],
   "source": [
    "import pandas as pd\n",
    "\n",
    "# Dosyayı oku\n",
    "cols = ['x','y','z','dx','dy','dz','yaw','class']\n",
    "df = pd.read_csv('cfs_vargarda8/labels/0000001.txt', sep=' ', names=cols)\n",
    "\n",
    "# Toplam koni sayısı\n",
    "total_cones = len(df)\n",
    "yellow_cones = (df['class'] == 'Cone_Yellow').sum()\n",
    "blue_cones   = (df['class'] == 'Cone_Blue').sum()\n",
    "\n",
    "print(f\"Toplam koni sayısı: {total_cones}\")\n",
    "print(f\"Sarı koniler (Cone_Yellow): {yellow_cones}\")\n",
    "print(f\"Mavi koniler (Cone_Blue): {blue_cones}\")\n"
   ]
  },
  {
   "cell_type": "code",
   "execution_count": 16,
   "id": "054c2637",
   "metadata": {},
   "outputs": [
    {
     "name": "stdout",
     "output_type": "stream",
     "text": [
      "0000001.txt: toplam=144, sarı=70, mavi=74\n",
      "0000002.txt: toplam=144, sarı=70, mavi=74\n",
      "0000003.txt: toplam=144, sarı=70, mavi=74\n",
      "0000005.txt: toplam=144, sarı=70, mavi=74\n",
      "0000008.txt: toplam=144, sarı=70, mavi=74\n",
      "0000012.txt: toplam=144, sarı=70, mavi=74\n",
      "0000013.txt: toplam=144, sarı=70, mavi=74\n",
      "0000014.txt: toplam=144, sarı=70, mavi=74\n",
      "0000015.txt: toplam=144, sarı=70, mavi=74\n",
      "0000016.txt: toplam=144, sarı=70, mavi=74\n",
      "0000017.txt: toplam=144, sarı=70, mavi=74\n",
      "0000018.txt: toplam=144, sarı=70, mavi=74\n",
      "0000020.txt: toplam=144, sarı=70, mavi=74\n",
      "0000021.txt: toplam=144, sarı=70, mavi=74\n",
      "0000022.txt: toplam=144, sarı=70, mavi=74\n",
      "0000023.txt: toplam=144, sarı=70, mavi=74\n",
      "0000024.txt: toplam=144, sarı=70, mavi=74\n",
      "0000025.txt: toplam=144, sarı=70, mavi=74\n",
      "0000026.txt: toplam=144, sarı=70, mavi=74\n",
      "0000027.txt: toplam=144, sarı=70, mavi=74\n",
      "0000028.txt: toplam=144, sarı=70, mavi=74\n",
      "0000029.txt: toplam=144, sarı=70, mavi=74\n",
      "0000030.txt: toplam=144, sarı=70, mavi=74\n",
      "0000031.txt: toplam=144, sarı=70, mavi=74\n",
      "0000032.txt: toplam=144, sarı=70, mavi=74\n",
      "0000035.txt: toplam=144, sarı=70, mavi=74\n",
      "0000036.txt: toplam=144, sarı=70, mavi=74\n",
      "0000037.txt: toplam=144, sarı=70, mavi=74\n",
      "0000038.txt: toplam=144, sarı=70, mavi=74\n",
      "0000039.txt: toplam=144, sarı=70, mavi=74\n",
      "0000040.txt: toplam=144, sarı=70, mavi=74\n",
      "0000041.txt: toplam=144, sarı=70, mavi=74\n",
      "0000042.txt: toplam=144, sarı=70, mavi=74\n",
      "0000043.txt: toplam=144, sarı=70, mavi=74\n",
      "0000044.txt: toplam=144, sarı=70, mavi=74\n",
      "0000046.txt: toplam=144, sarı=70, mavi=74\n",
      "0000047.txt: toplam=144, sarı=70, mavi=74\n",
      "0000048.txt: toplam=144, sarı=70, mavi=74\n",
      "0000049.txt: toplam=144, sarı=70, mavi=74\n",
      "0000050.txt: toplam=144, sarı=70, mavi=74\n",
      "0000051.txt: toplam=144, sarı=70, mavi=74\n",
      "0000052.txt: toplam=144, sarı=70, mavi=74\n",
      "0000053.txt: toplam=144, sarı=70, mavi=74\n",
      "0000054.txt: toplam=144, sarı=70, mavi=74\n",
      "0000055.txt: toplam=144, sarı=70, mavi=74\n",
      "0000056.txt: toplam=144, sarı=70, mavi=74\n",
      "0000057.txt: toplam=144, sarı=70, mavi=74\n",
      "0000058.txt: toplam=144, sarı=70, mavi=74\n",
      "0000059.txt: toplam=144, sarı=70, mavi=74\n",
      "0000060.txt: toplam=144, sarı=70, mavi=74\n",
      "0000061.txt: toplam=144, sarı=70, mavi=74\n",
      "0000062.txt: toplam=144, sarı=70, mavi=74\n",
      "0000063.txt: toplam=144, sarı=70, mavi=74\n",
      "0000064.txt: toplam=144, sarı=70, mavi=74\n",
      "0000065.txt: toplam=144, sarı=70, mavi=74\n",
      "0000066.txt: toplam=144, sarı=70, mavi=74\n",
      "0000067.txt: toplam=144, sarı=70, mavi=74\n",
      "0000068.txt: toplam=144, sarı=70, mavi=74\n",
      "0000069.txt: toplam=144, sarı=70, mavi=74\n",
      "0000071.txt: toplam=144, sarı=70, mavi=74\n",
      "0000072.txt: toplam=144, sarı=70, mavi=74\n",
      "0000073.txt: toplam=144, sarı=70, mavi=74\n",
      "0000075.txt: toplam=144, sarı=70, mavi=74\n",
      "\n",
      "Genel toplam:\n",
      "class\n",
      "Cone_Blue      4662\n",
      "Cone_Yellow    4410\n",
      "Name: count, dtype: int64\n"
     ]
    }
   ],
   "source": [
    "import pandas as pd\n",
    "import glob\n",
    "import os\n",
    "\n",
    "# ---- 1) Dosyaların bulunduğu klasör ----\n",
    "folder = \"cfs_vargarda8/labels\"\n",
    "cols = ['x','y','z','dx','dy','dz','yaw','class']\n",
    "\n",
    "# ---- 2) Tüm .txt dosyalarını bul ----\n",
    "txt_files = sorted(glob.glob(os.path.join(folder, \"*.txt\")))\n",
    "\n",
    "# ---- 3) Tüm dosyaları tek bir DataFrame'e oku ----\n",
    "all_dfs = []\n",
    "for file in txt_files:\n",
    "    df = pd.read_csv(file, sep=' ', names=cols)\n",
    "    df['scene'] = os.path.basename(file)  # hangi dosyadan geldiğini belirt\n",
    "    all_dfs.append(df)\n",
    "\n",
    "# Birleştir\n",
    "all_data = pd.concat(all_dfs, ignore_index=True)\n",
    "\n",
    "# ---- 4) Her dosya için koni sayısını yazdır ----\n",
    "for scene_name, scene_df in all_data.groupby('scene'):\n",
    "    total = len(scene_df)\n",
    "    yellow = (scene_df['class'] == 'Cone_Yellow').sum()\n",
    "    blue = (scene_df['class'] == 'Cone_Blue').sum()\n",
    "    print(f\"{scene_name}: toplam={total}, sarı={yellow}, mavi={blue}\")\n",
    "\n",
    "# ---- 5) (Opsiyonel) Toplam istatistikler ----\n",
    "print(\"\\nGenel toplam:\")\n",
    "print(all_data['class'].value_counts())\n"
   ]
  },
  {
   "cell_type": "code",
   "execution_count": 3,
   "id": "c99ee7dd",
   "metadata": {},
   "outputs": [],
   "source": [
    "import pandas as pd\n",
    "\n",
    "cols = ['x','y','z','dx','dy','dz','yaw','class']\n",
    "df1 = pd.read_csv('cfs_vargarda8/labels/0000001.txt', sep=' ', names=cols)\n",
    "df5 = pd.read_csv('cfs_vargarda8/labels/0000005.txt', sep=' ', names=cols)\n"
   ]
  }
 ],
 "metadata": {
  "kernelspec": {
   "display_name": "base",
   "language": "python",
   "name": "python3"
  },
  "language_info": {
   "codemirror_mode": {
    "name": "ipython",
    "version": 3
   },
   "file_extension": ".py",
   "mimetype": "text/x-python",
   "name": "python",
   "nbconvert_exporter": "python",
   "pygments_lexer": "ipython3",
   "version": "3.11.8"
  }
 },
 "nbformat": 4,
 "nbformat_minor": 5
}
